{
 "cells": [
  {
   "cell_type": "code",
   "execution_count": 1,
   "metadata": {
    "collapsed": true
   },
   "outputs": [],
   "source": [
    "import json\n",
    "from nltk.tokenize import word_tokenize"
   ]
  },
  {
   "cell_type": "code",
   "execution_count": 66,
   "metadata": {
    "collapsed": true
   },
   "outputs": [],
   "source": [
    "fname = 'perth-ins.json'\n",
    "\n",
    "general_keywords = ['greenlife','greenspace','park','parks','bbq','bbqtime','natural','naturallife','nature','wildlife','botany','botanic','botanical','botanicalgardens','botanicalgarden','royalbotanicalgardens','garden','gardens','reserve','tree','trees','plant','plants','flower','flowers','grass','stadium','golf','picnic','jogging','jogger']\n"
   ]
  },
  {
   "cell_type": "code",
   "execution_count": null,
   "metadata": {},
   "outputs": [],
   "source": [
    "with open(fname, 'r') as f:\n",
    "    line = f.readline() # read only the first tweet/line\n",
    "    print line\n",
    "    tweet = line # load it as Python dict\n",
    "    tweet = tweet.decode('unicode_escape').encode('ascii','ignore')\n",
    "    print(json.dumps(tweet, indent=4)) # pretty-print\n",
    "    print (word_tokenize(tweet))"
   ]
  },
  {
   "cell_type": "code",
   "execution_count": null,
   "metadata": {},
   "outputs": [],
   "source": [
    "erro_finder = 0\n",
    "sum_count = 0\n",
    "with open(fname, 'r') as f:\n",
    "    for line in f:\n",
    "        erro_finder += 1\n",
    "        print erro_finder\n",
    "        tweet = json.loads(line)\n",
    "        # Create a list with all the terms\n",
    "        words = word_tokenize(tweet)\n",
    "        words = [item.lower() for item in words]\n",
    "        #print words\n",
    "        for key in general_keywords:\n",
    "            if key in words:\n",
    "                sum_count = sum_count + 1\n",
    "                #print line\n",
    "                break\n",
    "        \n",
    "print sum_count"
   ]
  },
  {
   "cell_type": "code",
   "execution_count": 68,
   "metadata": {},
   "outputs": [
    {
     "name": "stdout",
     "output_type": "stream",
     "text": [
      "40824\n"
     ]
    }
   ],
   "source": [
    "#write to a new file\n",
    "sum_count = 0\n",
    "outf = open('perth-ins-greenspace.json', 'w')\n",
    "\n",
    "with open(fname, 'r') as f:\n",
    "    for line in f:\n",
    "        tweet = json.loads(line)\n",
    "        # Create a list with all the terms\n",
    "        words = word_tokenize(tweet)\n",
    "        words = [item.lower() for item in words]\n",
    "        #print words\n",
    "        for key in general_keywords:\n",
    "            if key in words:\n",
    "                sum_count = sum_count + 1\n",
    "                outf.write(line)\n",
    "                break\n",
    "                \n",
    "print sum_count\n",
    "outf.close()"
   ]
  },
  {
   "cell_type": "code",
   "execution_count": null,
   "metadata": {
    "collapsed": true
   },
   "outputs": [],
   "source": []
  }
 ],
 "metadata": {
  "kernelspec": {
   "display_name": "Python 2",
   "language": "python",
   "name": "python2"
  },
  "language_info": {
   "codemirror_mode": {
    "name": "ipython",
    "version": 2
   },
   "file_extension": ".py",
   "mimetype": "text/x-python",
   "name": "python",
   "nbconvert_exporter": "python",
   "pygments_lexer": "ipython2",
   "version": "2.7.13"
  }
 },
 "nbformat": 4,
 "nbformat_minor": 2
}
