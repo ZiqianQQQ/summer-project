{
 "cells": [
  {
   "cell_type": "code",
   "execution_count": 1,
   "metadata": {
    "collapsed": true
   },
   "outputs": [],
   "source": [
    "import json\n",
    "from textblob import TextBlob"
   ]
  },
  {
   "cell_type": "code",
   "execution_count": null,
   "metadata": {},
   "outputs": [],
   "source": [
    "import nltk\n",
    "nltk.downloader.download('vader_lexicon')\n",
    "from nltk.sentiment.vader import SentimentIntensityAnalyzer as SIA\n",
    "\n",
    "sid = SIA()"
   ]
  },
  {
   "cell_type": "code",
   "execution_count": 3,
   "metadata": {
    "collapsed": true
   },
   "outputs": [],
   "source": [
    "from nltk.tokenize import word_tokenize"
   ]
  },
  {
   "cell_type": "code",
   "execution_count": 27,
   "metadata": {
    "collapsed": true
   },
   "outputs": [],
   "source": [
    "fname = '.json'\n",
    "all_twitter_data = '.json'"
   ]
  },
  {
   "cell_type": "code",
   "execution_count": 12,
   "metadata": {
    "collapsed": true
   },
   "outputs": [],
   "source": [
    "def sentiment(message):\n",
    "    text = TextBlob(message)\n",
    "    response = [text.polarity , text.subjectivity]\n",
    "    return response"
   ]
  },
  {
   "cell_type": "code",
   "execution_count": null,
   "metadata": {},
   "outputs": [],
   "source": [
    "##### textblob: polarity without objective data\n",
    "count = 0\n",
    "po_sum = 0\n",
    "with open(fname, 'r') as f:\n",
    "    for line in f:\n",
    "        po, su = sentiment(line)\n",
    "        if su != 0.0:\n",
    "            print po, su\n",
    "            print line\n",
    "            count = count + 1\n",
    "            po_sum = po_sum + po\n",
    "\n",
    "print count\n",
    "print (po_sum/count)\n",
    "\n"
   ]
  },
  {
   "cell_type": "code",
   "execution_count": null,
   "metadata": {
    "scrolled": true
   },
   "outputs": [],
   "source": [
    "##### textblob: polarity of all green data\n",
    "count = 0\n",
    "po_sum = 0\n",
    "with open(fname, 'r') as f:\n",
    "    for line in f:\n",
    "        po, su = sentiment(line)\n",
    "        #print line\n",
    "        count = count + 1\n",
    "        po_sum = po_sum + po\n",
    "\n",
    "print count\n",
    "print (po_sum/count)\n",
    "\n"
   ]
  },
  {
   "cell_type": "code",
   "execution_count": null,
   "metadata": {},
   "outputs": [],
   "source": [
    "##### textblob: all sydney ins/twiiter data, for comparison\n",
    "\n",
    "count = 0\n",
    "po_sum = 0\n",
    "\n",
    "with open(all_twitter_data, 'r') as f:\n",
    "    for line in f:\n",
    "        po, su = sentiment(line)\n",
    "        #print line\n",
    "        count = count + 1\n",
    "        po_sum = po_sum + po\n",
    "\n",
    "print count\n",
    "print (po_sum/count)"
   ]
  },
  {
   "cell_type": "code",
   "execution_count": null,
   "metadata": {},
   "outputs": [],
   "source": [
    "####### nltk: polarity without objective data\n",
    "count = 0\n",
    "po_sum = 0\n",
    "with open(fname, 'r') as f:\n",
    "    for line in f:\n",
    "        ss = sid.polarity_scores(line)\n",
    "        if ss['neu'] != 1.0:\n",
    "            \n",
    "            print ss\n",
    "            print line\n",
    "            po_sum = po_sum + ss['compound']\n",
    "            count = count + 1\n",
    "\n",
    "print count\n",
    "print (po_sum/count)\n"
   ]
  },
  {
   "cell_type": "code",
   "execution_count": null,
   "metadata": {},
   "outputs": [],
   "source": [
    "####### nltk: polarity of all green space data\n",
    "count = 0\n",
    "po_sum = 0\n",
    "with open(fname, 'r') as f:\n",
    "    for line in f:\n",
    "        ss = sid.polarity_scores(line)\n",
    "        po_sum = po_sum + ss['compound']\n",
    "        count = count + 1\n",
    "        #print ss\n",
    "        #print line\n",
    "\n",
    "print count\n",
    "print (po_sum/count)\n"
   ]
  },
  {
   "cell_type": "code",
   "execution_count": null,
   "metadata": {},
   "outputs": [],
   "source": [
    "####### nltk: polarity of all ins/twitter data\n",
    "count = 0\n",
    "po_sum = 0\n",
    "with open(all_twitter_data, 'r') as f:\n",
    "    for line in f:\n",
    "        ss = sid.polarity_scores(line)\n",
    "        po_sum = po_sum + ss['compound']\n",
    "        count = count + 1\n",
    "\n",
    "print count\n",
    "print (po_sum/count)\n"
   ]
  },
  {
   "cell_type": "code",
   "execution_count": null,
   "metadata": {},
   "outputs": [],
   "source": [
    "####### nltk: polarity of all green space data\n",
    "training_data = []\n",
    "\n",
    "with open(fname, 'r') as f:\n",
    "    for line in f:\n",
    "        ss = sid.polarity_scores(line)\n",
    "       \n",
    "        if (ss['compound'] >= 0.5):\n",
    "            line = (line, 'pos')\n",
    "        elif (ss['compound'] <= -0.5):\n",
    "            line = (line, 'neg')\n",
    "        else:\n",
    "            line = (line, 'neu')\n",
    "            \n",
    "        training_data.append(line)\n",
    "        \n",
    "print training_data\n"
   ]
  },
  {
   "cell_type": "code",
   "execution_count": 45,
   "metadata": {
    "collapsed": true
   },
   "outputs": [],
   "source": [
    "train = []"
   ]
  },
  {
   "cell_type": "code",
   "execution_count": null,
   "metadata": {},
   "outputs": [],
   "source": [
    "i = 0\n",
    "correct = 0\n",
    "incorrect = 0\n",
    "for i in range():\n",
    "    if train[i][1] == training_data[i][1]:\n",
    "        correct += 1\n",
    "    else:\n",
    "        incorrect += 1\n",
    "    i += 1\n",
    "        \n",
    "print correct\n",
    "print incorrect"
   ]
  },
  {
   "cell_type": "code",
   "execution_count": null,
   "metadata": {},
   "outputs": [],
   "source": [
    "# Step 2\n",
    "dictionary = set(word.lower() for passage in train for word in word_tokenize(passage[0]))\n",
    "  \n",
    "# Step 3\n",
    "t = [({word: (word in word_tokenize(x[0])) for word in dictionary}, x[1]) for x in train]\n",
    "  \n",
    "# Step 4 – the classifier is trained with sample data\n",
    "classifier = nltk.NaiveBayesClassifier.train(t)\n",
    "  \n",
    "test_data = \"Manchurian was hot and spicy\"\n",
    "test_data_features = {word.lower(): (word in word_tokenize(test_data.lower())) for word in dictionary}\n",
    "  \n",
    "print (classifier.classify(test_data_features))"
   ]
  },
  {
   "cell_type": "code",
   "execution_count": null,
   "metadata": {},
   "outputs": [],
   "source": [
    "test_trained_data = []\n",
    "with open(fname, 'r') as f:\n",
    "    for line in f:\n",
    "        test_data = line\n",
    "        test_data_features = {word.lower(): (word in word_tokenize(test_data.lower())) for word in dictionary}\n",
    "        emo = classifier.classify(test_data_features)\n",
    "        line = (line, emo)\n",
    "        test_trained_data.append(line)\n",
    "\n",
    "print test_trained_data"
   ]
  },
  {
   "cell_type": "code",
   "execution_count": null,
   "metadata": {},
   "outputs": [],
   "source": [
    "i = 0\n",
    "correct = 0\n",
    "incorrect = 0\n",
    "for i in range():\n",
    "    if train[i][1] == test_trained_data[i][1]:\n",
    "        correct += 1\n",
    "    else:\n",
    "        incorrect += 1\n",
    "    i += 1\n",
    "        \n",
    "print correct\n",
    "print incorrect        \n"
   ]
  }
 ],
 "metadata": {
  "kernelspec": {
   "display_name": "Python 2",
   "language": "python",
   "name": "python2"
  },
  "language_info": {
   "codemirror_mode": {
    "name": "ipython",
    "version": 2
   },
   "file_extension": ".py",
   "mimetype": "text/x-python",
   "name": "python",
   "nbconvert_exporter": "python",
   "pygments_lexer": "ipython2",
   "version": "2.7.13"
  }
 },
 "nbformat": 4,
 "nbformat_minor": 2
}
