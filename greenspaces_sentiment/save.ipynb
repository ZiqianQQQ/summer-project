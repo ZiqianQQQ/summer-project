{
 "cells": [
  {
   "cell_type": "code",
   "execution_count": 1,
   "metadata": {
    "collapsed": true
   },
   "outputs": [],
   "source": [
    "import couchdb\n",
    "import json\n",
    "import re"
   ]
  },
  {
   "cell_type": "code",
   "execution_count": 5,
   "metadata": {
    "collapsed": true
   },
   "outputs": [],
   "source": [
    "# info for couch DB\n",
    "user = \"admin\"\n",
    "password = \"12345678\"\n",
    "# info to retrieve view\n",
    "dbname = \"perth\"\n",
    "design = \"\"\n",
    "view = \"\"\n",
    "# connects to couchDB\n",
    "couch = couchdb.Server(\"http://%s:%s@43.240.96.22:5984//\" % (user, password))\n",
    "#couch = couchdb.Server(\"http://%s:%s@45.113.232.90:5984//\" % (user, password))\n",
    "# requesting exist view from database\n",
    " \n",
    "\n",
    "counts = couch[dbname].view(design+'/'+view,\n",
    "                            reduce=False,\n",
    "                            descending=True)"
   ]
  },
  {
   "cell_type": "code",
   "execution_count": 6,
   "metadata": {
    "collapsed": true
   },
   "outputs": [],
   "source": [
    "# save it locally for further manipulate\n",
    "#,ensure_ascii=False\n",
    "tweets = []\n",
    "for count in counts:\n",
    "    tweet = json.dumps(count['value'])  \n",
    "    tweets.append(tweet)\n",
    "# check duplicates by tweets\n",
    "seen = set()\n",
    "for x in tweets: \n",
    "    if x not in seen:\n",
    "        seen.add(x)"
   ]
  },
  {
   "cell_type": "code",
   "execution_count": null,
   "metadata": {
    "collapsed": true
   },
   "outputs": [],
   "source": [
    "with open('' ,'w') as nf, open('', 'w') as b:\n",
    "#with open('qiao-perthins.json' ,'w') as nf: \n",
    "    for values in seen:  \n",
    "        #save the tweet into the document along with the sentiment result\n",
    "        y= json.loads(values)   \n",
    "        nf.write(json.dumps(y[0]))\n",
    "        nf.write(\",\")\n",
    "        nf.write(json.dumps(y[1])) \n",
    "        nf.write(\"\\n\")\n",
    "        text = json.dumps(y[1])\n",
    "        \n",
    "        b.write(text)\n",
    "        b.write(\"\\n\")"
   ]
  },
  {
   "cell_type": "code",
   "execution_count": 7,
   "metadata": {
    "collapsed": true
   },
   "outputs": [],
   "source": [
    "with open('' ,'w') as nf:\n",
    "#with open('qiao-perthins.json' ,'w') as nf: \n",
    "    for values in seen:  \n",
    "        #save the tweet into the document along with the sentiment result\n",
    "        y = json.loads(values)   \n",
    "        nf.write(json.dumps(y))\n",
    "        nf.write(\"\\n\")\n",
    "        "
   ]
  },
  {
   "cell_type": "code",
   "execution_count": null,
   "metadata": {
    "collapsed": true
   },
   "outputs": [],
   "source": []
  }
 ],
 "metadata": {
  "kernelspec": {
   "display_name": "Python 2",
   "language": "python",
   "name": "python2"
  },
  "language_info": {
   "codemirror_mode": {
    "name": "ipython",
    "version": 2
   },
   "file_extension": ".py",
   "mimetype": "text/x-python",
   "name": "python",
   "nbconvert_exporter": "python",
   "pygments_lexer": "ipython2",
   "version": "2.7.13"
  }
 },
 "nbformat": 4,
 "nbformat_minor": 2
}
