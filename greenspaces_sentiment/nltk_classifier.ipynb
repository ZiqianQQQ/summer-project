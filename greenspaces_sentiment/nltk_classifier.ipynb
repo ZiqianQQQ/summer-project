{
 "cells": [
  {
   "cell_type": "code",
   "execution_count": null,
   "metadata": {
    "scrolled": true
   },
   "outputs": [],
   "source": [
    "import json\n",
    "import nltk\n",
    "nltk.downloader.download('vader_lexicon')\n",
    "from nltk.sentiment.vader import SentimentIntensityAnalyzer as SIA\n",
    "\n",
    "sid = SIA()\n",
    "\n",
    "from nltk.tokenize import word_tokenize"
   ]
  },
  {
   "cell_type": "code",
   "execution_count": 148,
   "metadata": {
    "collapsed": true
   },
   "outputs": [],
   "source": [
    "fname = ''\n",
    "all_ins_data = ''\n",
    "all_twitter_data = ''"
   ]
  },
  {
   "cell_type": "code",
   "execution_count": 2,
   "metadata": {
    "collapsed": true
   },
   "outputs": [],
   "source": [
    "import csv"
   ]
  },
  {
   "cell_type": "code",
   "execution_count": 3,
   "metadata": {},
   "outputs": [
    {
     "name": "stdout",
     "output_type": "stream",
     "text": [
      "245\n"
     ]
    }
   ],
   "source": [
    "#step 1\n",
    "####### nltk labelled data\n",
    "f = 'nltk_label_grtw.csv'\n",
    "nltk_train = []\n",
    "with open(f) as csvDataFile:\n",
    "    csvReader = csv.reader(csvDataFile)\n",
    "    for row in csvReader:\n",
    "        t = (row[0],row[1])\n",
    "        nltk_train.append(t)\n",
    "        \n",
    "nltk_train.remove(nltk_train[0])\n",
    "print len(nltk_train)"
   ]
  },
  {
   "cell_type": "code",
   "execution_count": 4,
   "metadata": {},
   "outputs": [
    {
     "name": "stdout",
     "output_type": "stream",
     "text": [
      "245\n"
     ]
    }
   ],
   "source": [
    "####### manually labelled data\n",
    "f1 = 'manu_label_grtw.csv'\n",
    "manually_train = []\n",
    "with open(f1) as csvDataFile:\n",
    "    csvReader = csv.reader(csvDataFile)\n",
    "    for row in csvReader:\n",
    "        t = (row[0],row[1])\n",
    "        manually_train.append(t)\n",
    "        \n",
    "manually_train.remove(manually_train[0])\n",
    "\n",
    "print len(manually_train)\n"
   ]
  },
  {
   "cell_type": "code",
   "execution_count": 5,
   "metadata": {},
   "outputs": [
    {
     "name": "stdout",
     "output_type": "stream",
     "text": [
      "178\n",
      "55\n"
     ]
    }
   ],
   "source": [
    "####### compare: nltk labelled data && manually labelled data\n",
    "i = 0\n",
    "correct = 0\n",
    "incorrect = 0\n",
    "for i in range(233):\n",
    "    if (nltk_train[i][1] == manually_train[i][1]):\n",
    "        correct += 1\n",
    "    else:\n",
    "        incorrect += 1\n",
    "    i += 1\n",
    "        \n",
    "print correct\n",
    "print incorrect"
   ]
  },
  {
   "cell_type": "code",
   "execution_count": 6,
   "metadata": {
    "collapsed": true
   },
   "outputs": [],
   "source": [
    "# Step 2\n",
    "dictionary = set(word.lower() for passage in manually_train for word in word_tokenize(passage[0]))\n",
    "  \n",
    "# Step 3\n",
    "t = [({word: (word in word_tokenize(x[0])) for word in dictionary}, x[1]) for x in manually_train]\n",
    "  \n",
    "# Step 4 – the classifier is trained with sample data\n",
    "classifier = nltk.NaiveBayesClassifier.train(t)\n",
    "  \n",
    "#test_data = \"Manchurian was hot and spicy\"\n",
    "#test_data_features = {word.lower(): (word in word_tokenize(test_data.lower())) for word in dictionary}\n",
    "  \n",
    "#print (classifier.classify(test_data_features))"
   ]
  },
  {
   "cell_type": "code",
   "execution_count": 159,
   "metadata": {},
   "outputs": [
    {
     "name": "stdout",
     "output_type": "stream",
     "text": [
      "245\n"
     ]
    }
   ],
   "source": [
    "####### classifier labelling data\n",
    "\n",
    "####### classifier labelled data\n",
    "test_trained_data = []\n",
    "\n",
    "fname = 'all-twitter-greenspace.json'\n",
    "with open(fname, 'r') as f:\n",
    "    for line in f:\n",
    "        test_data = line\n",
    "        test_data_features = {word.lower(): (word in word_tokenize(test_data.lower())) for word in dictionary}\n",
    "        emo = classifier.classify(test_data_features)\n",
    "        line = (line, emo)\n",
    "        test_trained_data.append(line)\n",
    "\n",
    "print len(test_trained_data)"
   ]
  },
  {
   "cell_type": "code",
   "execution_count": 161,
   "metadata": {},
   "outputs": [
    {
     "name": "stdout",
     "output_type": "stream",
     "text": [
      "230\n",
      "15\n"
     ]
    }
   ],
   "source": [
    "####### compare: classifier labelled data && manually labelled data\n",
    "i = 0\n",
    "correct = 0\n",
    "incorrect = 0\n",
    "for i in range(245):\n",
    "    if manually_train[i][1] == test_trained_data[i][1]:\n",
    "        correct += 1\n",
    "    else:\n",
    "        incorrect += 1\n",
    "    i += 1\n",
    "        \n",
    "print correct\n",
    "print incorrect        \n"
   ]
  },
  {
   "cell_type": "code",
   "execution_count": 10,
   "metadata": {},
   "outputs": [
    {
     "data": {
      "text/plain": [
       "<SklearnClassifier(LinearSVC(C=1.0, class_weight=None, dual=True, fit_intercept=True,\n",
       "     intercept_scaling=1, loss='squared_hinge', max_iter=1000,\n",
       "     multi_class='ovr', penalty='l2', random_state=None, tol=0.0001,\n",
       "     verbose=0))>"
      ]
     },
     "execution_count": 10,
     "metadata": {},
     "output_type": "execute_result"
    }
   ],
   "source": [
    "#import nltk.classify\n",
    "from sklearn.svm import LinearSVC\n",
    "\n",
    "classifier_svm = nltk.classify.SklearnClassifier(LinearSVC())\n",
    "classifier_svm.train(t)"
   ]
  },
  {
   "cell_type": "code",
   "execution_count": 123,
   "metadata": {},
   "outputs": [
    {
     "name": "stdout",
     "output_type": "stream",
     "text": [
      "245\n"
     ]
    }
   ],
   "source": [
    "\n",
    "####### classifier_svm labelled data\n",
    "test_trained_data = []\n",
    "\n",
    "fname = 'all-twitter-greenspace.json'\n",
    "with open(fname, 'r') as f:\n",
    "    for line in f:\n",
    "        test_data = line\n",
    "        test_data_features = {word.lower(): (word in word_tokenize(test_data.lower())) for word in dictionary}\n",
    "        emo = classifier_svm.classify(test_data_features)\n",
    "        line = (line, emo)\n",
    "        test_trained_data.append(line)\n",
    "\n",
    "print len(test_trained_data)\n"
   ]
  },
  {
   "cell_type": "code",
   "execution_count": 124,
   "metadata": {},
   "outputs": [
    {
     "name": "stdout",
     "output_type": "stream",
     "text": [
      "237\n",
      "8\n"
     ]
    }
   ],
   "source": [
    "####### compare: classifier labelled data && manually labelled data\n",
    "i = 0\n",
    "correct = 0\n",
    "incorrect = 0\n",
    "for i in range(245):\n",
    "    if train[i][1] == test_trained_data[i][1]:\n",
    "        correct += 1\n",
    "    else:\n",
    "        incorrect += 1\n",
    "    i += 1\n",
    "        \n",
    "print correct\n",
    "print incorrect        "
   ]
  },
  {
   "cell_type": "code",
   "execution_count": 125,
   "metadata": {
    "collapsed": true
   },
   "outputs": [],
   "source": [
    " classifier_dt = nltk.classify.DecisionTreeClassifier.train(t)"
   ]
  },
  {
   "cell_type": "code",
   "execution_count": 126,
   "metadata": {},
   "outputs": [
    {
     "name": "stdout",
     "output_type": "stream",
     "text": [
      "245\n"
     ]
    }
   ],
   "source": [
    "####### classifier_dt labelled data\n",
    "test_trained_data = []\n",
    "\n",
    "fname = 'all-twitter-greenspace.json'\n",
    "with open(fname, 'r') as f:\n",
    "    for line in f:\n",
    "        test_data = line\n",
    "        test_data_features = {word.lower(): (word in word_tokenize(test_data.lower())) for word in dictionary}\n",
    "        emo = classifier_dt.classify(test_data_features)\n",
    "        line = (line, emo)\n",
    "        test_trained_data.append(line)\n",
    "\n",
    "print len(test_trained_data)\n"
   ]
  },
  {
   "cell_type": "code",
   "execution_count": 127,
   "metadata": {},
   "outputs": [
    {
     "name": "stdout",
     "output_type": "stream",
     "text": [
      "237\n",
      "8\n"
     ]
    }
   ],
   "source": [
    "####### compare: classifier labelled data && manually labelled data\n",
    "i = 0\n",
    "correct = 0\n",
    "incorrect = 0\n",
    "for i in range(245):\n",
    "    if train[i][1] == test_trained_data[i][1]:\n",
    "        correct += 1\n",
    "    else:\n",
    "        incorrect += 1\n",
    "    i += 1\n",
    "        \n",
    "print correct\n",
    "print incorrect        "
   ]
  },
  {
   "cell_type": "code",
   "execution_count": 13,
   "metadata": {},
   "outputs": [
    {
     "name": "stdout",
     "output_type": "stream",
     "text": [
      "1379\n"
     ]
    }
   ],
   "source": [
    "####### classifier labelled data\n",
    "test_trained_data = []\n",
    "\n",
    "fname = 'mel-tweets-ngr.json'\n",
    "with open(fname, 'r') as f:\n",
    "    for line in f:\n",
    "        test_data = line\n",
    "        test_data_features = {word.lower(): (word in word_tokenize(test_data.lower())) for word in dictionary}\n",
    "        emo = classifier.classify(test_data_features)\n",
    "        line = (line, emo)\n",
    "        test_trained_data.append(line)\n",
    "\n",
    "print len(test_trained_data)"
   ]
  },
  {
   "cell_type": "code",
   "execution_count": 14,
   "metadata": {},
   "outputs": [
    {
     "name": "stdout",
     "output_type": "stream",
     "text": [
      "397\n",
      "0\n"
     ]
    }
   ],
   "source": [
    "count_pos = 0\n",
    "count_neg = 0\n",
    "for i in test_trained_data:\n",
    "    #print i[1]\n",
    "    if (i[1] == 'pos'):\n",
    "        count_pos += 1\n",
    "    elif (i[1] == 'neg'):\n",
    "        count_neg += 1\n",
    "\n",
    "print count_pos\n",
    "print count_neg"
   ]
  },
  {
   "cell_type": "code",
   "execution_count": 15,
   "metadata": {},
   "outputs": [
    {
     "name": "stdout",
     "output_type": "stream",
     "text": [
      "1379\n"
     ]
    }
   ],
   "source": [
    "####### classifier_svm labelled data\n",
    "test_trained_data = []\n",
    "\n",
    "#fname = 'mel-tw-text.json'\n",
    "with open(fname, 'r') as f:\n",
    "    for line in f:\n",
    "        test_data = line\n",
    "        test_data_features = {word.lower(): (word in word_tokenize(test_data.lower())) for word in dictionary}\n",
    "        emo = classifier_svm.classify(test_data_features)\n",
    "        line = (line, emo)\n",
    "        test_trained_data.append(line)\n",
    "\n",
    "print len(test_trained_data)\n"
   ]
  },
  {
   "cell_type": "code",
   "execution_count": 16,
   "metadata": {},
   "outputs": [
    {
     "name": "stdout",
     "output_type": "stream",
     "text": [
      "488\n",
      "2\n"
     ]
    }
   ],
   "source": [
    "count_pos = 0\n",
    "count_neg = 0\n",
    "for i in test_trained_data:\n",
    "    #print i[1]\n",
    "    if (i[1] == 'pos'):\n",
    "        count_pos += 1\n",
    "    elif (i[1] == 'neg'):\n",
    "        count_neg += 1\n",
    "\n",
    "print count_pos\n",
    "print count_neg"
   ]
  },
  {
   "cell_type": "code",
   "execution_count": 174,
   "metadata": {},
   "outputs": [
    {
     "name": "stdout",
     "output_type": "stream",
     "text": [
      "332\n"
     ]
    }
   ],
   "source": [
    "####### classifier_dt labelled data\n",
    "test_trained_data = []\n",
    "\n",
    "#fname = 'mel-tw-green.json'\n",
    "with open(fname, 'r') as f:\n",
    "    for line in f:\n",
    "        test_data = line\n",
    "        test_data_features = {word.lower(): (word in word_tokenize(test_data.lower())) for word in dictionary}\n",
    "        emo = classifier_dt.classify(test_data_features)\n",
    "        line = (line, emo)\n",
    "        test_trained_data.append(line)\n",
    "\n",
    "print len(test_trained_data)\n"
   ]
  },
  {
   "cell_type": "code",
   "execution_count": 175,
   "metadata": {},
   "outputs": [
    {
     "name": "stdout",
     "output_type": "stream",
     "text": [
      "63\n",
      "6\n"
     ]
    }
   ],
   "source": [
    "count_pos = 0\n",
    "count_neg = 0\n",
    "for i in test_trained_data:\n",
    "    #print i[1]\n",
    "    if (i[1] == 'pos'):\n",
    "        count_pos += 1\n",
    "    elif (i[1] == 'neg'):\n",
    "        count_neg += 1\n",
    "\n",
    "print count_pos\n",
    "print count_neg"
   ]
  },
  {
   "cell_type": "code",
   "execution_count": null,
   "metadata": {
    "collapsed": true
   },
   "outputs": [],
   "source": []
  }
 ],
 "metadata": {
  "kernelspec": {
   "display_name": "Python 2",
   "language": "python",
   "name": "python2"
  },
  "language_info": {
   "codemirror_mode": {
    "name": "ipython",
    "version": 2
   },
   "file_extension": ".py",
   "mimetype": "text/x-python",
   "name": "python",
   "nbconvert_exporter": "python",
   "pygments_lexer": "ipython2",
   "version": "2.7.13"
  }
 },
 "nbformat": 4,
 "nbformat_minor": 2
}
